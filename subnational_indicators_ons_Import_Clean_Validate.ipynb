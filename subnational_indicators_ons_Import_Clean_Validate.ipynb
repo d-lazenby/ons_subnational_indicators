{
 "cells": [
  {
   "cell_type": "code",
   "execution_count": 2,
   "id": "8be504f9",
   "metadata": {},
   "outputs": [],
   "source": [
    "import numpy as np\n",
    "import pandas as pd\n",
    "import seaborn as sns\n",
    "import glob\n",
    "import os\n",
    "import joblib"
   ]
  },
  {
   "cell_type": "code",
   "execution_count": 3,
   "id": "99245091",
   "metadata": {},
   "outputs": [],
   "source": [
    "# Grab all csvs\n",
    "csvs = glob.glob(os.path.join('./data', '*.csv'))\n",
    "\n",
    "# Loop through files, convert to dfs, tidy headers and store in a list\n",
    "dataframes = [] \n",
    "#Actual data starts at row 6 and some of the columns have np.nan as header and all values.\n",
    "for csv in csvs:\n",
    "    df = pd.read_csv(csv, header=None)\n",
    "    df.columns = df.iloc[5].values\n",
    "    df = df[6:].reset_index(drop=True).loc[:, df.columns.notna()]\n",
    "    dataframes.append(df)"
   ]
  },
  {
   "cell_type": "code",
   "execution_count": 4,
   "id": "348f0c6e",
   "metadata": {},
   "outputs": [
    {
     "data": {
      "text/plain": [
       "['./data/Anxiety-Table 1.csv',\n",
       " './data/Drive to employer-Table 1.csv',\n",
       " './data/Broadband availability-Table 1.csv',\n",
       " './data/Worthwhile-Table 1.csv',\n",
       " './data/Cycle to employer-Table 1.csv',\n",
       " './data/Male HLE-Table 1.csv',\n",
       " './data/Good or outstanding schools-Table 1.csv',\n",
       " './data/Notes-Table 1.csv',\n",
       " './data/Employment rate-Table 1.csv',\n",
       " './data/Data inclusivity-Table 1.csv',\n",
       " './data/Public transport to employer-Table 1.csv',\n",
       " './data/New houses-Table 1.csv',\n",
       " './data/GCSE-Table 1.csv',\n",
       " './data/Female HLE-Table 1.csv',\n",
       " './data/Weekly pay-Table 1.csv',\n",
       " './data/GVA per hour-Table 1.csv',\n",
       " './data/4G-Table 1.csv',\n",
       " './data/Overweight adults-Table 1.csv',\n",
       " './data/Overweight children-Table 1.csv',\n",
       " './data/Early yrs lit-Table 1.csv',\n",
       " './data/Data dictionary-Table 1.csv',\n",
       " './data/Smokers-Table 1.csv',\n",
       " './data/Life satisfaction-Table 1.csv',\n",
       " './data/Apprenticeships completions-Table 1.csv',\n",
       " './data/Early yrs comms-Table 1.csv',\n",
       " './data/Apprenticeships starts-Table 1.csv',\n",
       " './data/Early yrs maths-Table 1.csv',\n",
       " './data/Happiness-Table 1.csv']"
      ]
     },
     "execution_count": 4,
     "metadata": {},
     "output_type": "execute_result"
    }
   ],
   "source": [
    "csvs"
   ]
  },
  {
   "cell_type": "code",
   "execution_count": 5,
   "id": "8fdae490",
   "metadata": {},
   "outputs": [],
   "source": [
    "# Merge dfs into one big df\n",
    "merged = dataframes[0]\n",
    "for i, frame in enumerate(dataframes[1:]):\n",
    "    #Try/Except because some of the csvs contain notes rather than data\n",
    "    try:\n",
    "        merged = pd.merge(merged, frame, how='left', on=['Area Code', 'Area'])\n",
    "    except:\n",
    "        continue"
   ]
  },
  {
   "cell_type": "code",
   "execution_count": 6,
   "id": "e92132cc",
   "metadata": {},
   "outputs": [],
   "source": [
    "#Remove columns with notes or nan in the title\n",
    "for col in list(merged.columns):\n",
    "    try:\n",
    "        if ('Note' in col) or ('nan' in col):\n",
    "            merged.drop(columns=col, inplace=True)\n",
    "        else:\n",
    "            continue\n",
    "    except:\n",
    "        continue"
   ]
  },
  {
   "cell_type": "code",
   "execution_count": 7,
   "id": "7b0026cb",
   "metadata": {},
   "outputs": [
    {
     "data": {
      "text/plain": [
       "Index(['Area Code', 'Area',\n",
       "       'Mean anxiety yesterday scored 0 (not at all) - 10 (completely)',\n",
       "       'Average travel time in minutes_x',\n",
       "       'Premises with gigabit capable broadband %',\n",
       "       'Mean feeling things done in life are worthwhile scored 0 (not at all) - 10 (completely)',\n",
       "       'Average travel time in minutes_y', 'Male healthy life expectancy',\n",
       "       'HLE Lower CI_x', 'HLE Upper CI_x',\n",
       "       'Schools and nurseries rated good or outstanding by OFSTED %',\n",
       "       'Employment rate %', 'Average travel time in minutes',\n",
       "       'Absolute increase in dwelling stock (including new builds, conversions, changes of use, other gains/losses and offset by demolitions)',\n",
       "       'Young people achieving GCSEs (and equivalent) in English and Maths  %',\n",
       "       'Female healthy life expectancy', 'HLE Lower CI_y', 'HLE Upper CI_y',\n",
       "       'Median weekly pay (£)', 'Gross Value Added per hour (£)',\n",
       "       'Geographic areas with 4G signal outdoors from at least 1 operator %',\n",
       "       'Overweight or obese %', 'Lower CI 95.0 limit_x',\n",
       "       'Upper CI 95.0 limit_x', 'Lower CI 99.8 limit_x',\n",
       "       'Upper CI 99.8 limit_x', 'Overweight or obese at reception age %',\n",
       "       'Lower CI 95.0 limit_y', 'Upper CI 95.0 limit_y',\n",
       "       'Lower CI 99.8 limit_y', 'Upper CI 99.8 limit_y',\n",
       "       '5 year olds achieving 'expected level' %_x',\n",
       "       'Adults that currently smoke cigarettes %', 'LCI', 'UCI',\n",
       "       'Mean satisfaction with your life nowadays scored 0 (not at all) - 10 (completely)',\n",
       "       'Count of apprenticeships achieved by adults aged 16+ based on home address',\n",
       "       '5 year olds achieving 'expected level' %_y',\n",
       "       'Count of apprenticeships started by adults aged 16+ based on home address',\n",
       "       '5 year olds achieving 'expected level' %',\n",
       "       'Mean happiness yesterday scored 0 (not at all) - 10 (completely)'],\n",
       "      dtype='object')"
      ]
     },
     "execution_count": 7,
     "metadata": {},
     "output_type": "execute_result"
    }
   ],
   "source": [
    "merged.columns"
   ]
  },
  {
   "cell_type": "code",
   "execution_count": 8,
   "id": "5309bcd1",
   "metadata": {},
   "outputs": [],
   "source": [
    "#Rename columns\n",
    "merged.columns = ['area_code', \n",
    "                  'area',\n",
    "                  'anxiety',\n",
    "                  'car_avg_travel',\n",
    "                  'broadband',\n",
    "                  'worthwhile',\n",
    "                  'cycle_avg_travel', \n",
    "                  'male_hle',\n",
    "                  'male_hle_lower_ci', \n",
    "                  'male_hle_upper_ci',\n",
    "                  'schools_nurseries',\n",
    "                  'employment_rate', \n",
    "                  'public_transport_avg_travel',\n",
    "                  'increase_dwellings',\n",
    "                  'gcses',\n",
    "                  'female_hle', \n",
    "                  'female_hle_lower_ci', \n",
    "                  'female_hle_upper_ci',\n",
    "                  'income', \n",
    "                  'gva_ph',\n",
    "                  '4g',\n",
    "                  'overweight_adults', \n",
    "                  'overweight_adults_lower_ci_95',\n",
    "                  'overweight_adults_upper_ci_95', \n",
    "                  'overweight_adults_lower_ci_99.8',\n",
    "                  'overweight_adults_upper_ci_99.8', \n",
    "                  'overweight_children', \n",
    "                  'overweight_children_lower_ci_95',\n",
    "                  'overweight_children_upper_ci_95', \n",
    "                  'overweight_children_lower_ci_99.8',\n",
    "                  'overweight_children_upper_ci_99.8', \n",
    "                  'early_yrs_lit',\n",
    "                  'smoking', \n",
    "                  'smoking_lower_ci', \n",
    "                  'smoking_upper_ci',\n",
    "                  'life_satisfaction',\n",
    "                  'apprenticeships_completions',\n",
    "                  'early_yrs_comms',\n",
    "                  'apprenticeships_starts',\n",
    "                  'early_yrs_maths',\n",
    "                  'happiness']"
   ]
  },
  {
   "cell_type": "code",
   "execution_count": 9,
   "id": "bf69704d",
   "metadata": {},
   "outputs": [
    {
     "data": {
      "text/html": [
       "<div>\n",
       "<style scoped>\n",
       "    .dataframe tbody tr th:only-of-type {\n",
       "        vertical-align: middle;\n",
       "    }\n",
       "\n",
       "    .dataframe tbody tr th {\n",
       "        vertical-align: top;\n",
       "    }\n",
       "\n",
       "    .dataframe thead th {\n",
       "        text-align: right;\n",
       "    }\n",
       "</style>\n",
       "<table border=\"1\" class=\"dataframe\">\n",
       "  <thead>\n",
       "    <tr style=\"text-align: right;\">\n",
       "      <th></th>\n",
       "      <th>area_code</th>\n",
       "      <th>area</th>\n",
       "      <th>anxiety</th>\n",
       "      <th>car_avg_travel</th>\n",
       "      <th>broadband</th>\n",
       "      <th>worthwhile</th>\n",
       "      <th>cycle_avg_travel</th>\n",
       "      <th>male_hle</th>\n",
       "      <th>male_hle_lower_ci</th>\n",
       "      <th>male_hle_upper_ci</th>\n",
       "      <th>...</th>\n",
       "      <th>early_yrs_lit</th>\n",
       "      <th>smoking</th>\n",
       "      <th>smoking_lower_ci</th>\n",
       "      <th>smoking_upper_ci</th>\n",
       "      <th>life_satisfaction</th>\n",
       "      <th>apprenticeships_completions</th>\n",
       "      <th>early_yrs_comms</th>\n",
       "      <th>apprenticeships_starts</th>\n",
       "      <th>early_yrs_maths</th>\n",
       "      <th>happiness</th>\n",
       "    </tr>\n",
       "  </thead>\n",
       "  <tbody>\n",
       "    <tr>\n",
       "      <th>0</th>\n",
       "      <td>E06000001</td>\n",
       "      <td>Hartlepool</td>\n",
       "      <td>3.39</td>\n",
       "      <td>7.8</td>\n",
       "      <td>5.3</td>\n",
       "      <td>7.68</td>\n",
       "      <td>10.1</td>\n",
       "      <td>57.0</td>\n",
       "      <td>55.3</td>\n",
       "      <td>58.8</td>\n",
       "      <td>...</td>\n",
       "      <td>73.5</td>\n",
       "      <td>15.9</td>\n",
       "      <td>12.4</td>\n",
       "      <td>19.4</td>\n",
       "      <td>7.33</td>\n",
       "      <td>370</td>\n",
       "      <td>79.3</td>\n",
       "      <td>660</td>\n",
       "      <td>76.9</td>\n",
       "      <td>7.21</td>\n",
       "    </tr>\n",
       "    <tr>\n",
       "      <th>1</th>\n",
       "      <td>E06000002</td>\n",
       "      <td>Middlesbrough</td>\n",
       "      <td>3.11</td>\n",
       "      <td>8.5</td>\n",
       "      <td>5.6</td>\n",
       "      <td>7.62</td>\n",
       "      <td>11.3</td>\n",
       "      <td>58.5</td>\n",
       "      <td>56.8</td>\n",
       "      <td>60.2</td>\n",
       "      <td>...</td>\n",
       "      <td>63.9</td>\n",
       "      <td>12.8</td>\n",
       "      <td>9.2</td>\n",
       "      <td>16.3</td>\n",
       "      <td>7.21</td>\n",
       "      <td>470</td>\n",
       "      <td>71.8</td>\n",
       "      <td>900</td>\n",
       "      <td>68.2</td>\n",
       "      <td>7.26</td>\n",
       "    </tr>\n",
       "    <tr>\n",
       "      <th>2</th>\n",
       "      <td>E06000003</td>\n",
       "      <td>Redcar and Cleveland</td>\n",
       "      <td>3.16</td>\n",
       "      <td>8.1</td>\n",
       "      <td>1.5</td>\n",
       "      <td>7.76</td>\n",
       "      <td>11.1</td>\n",
       "      <td>60.2</td>\n",
       "      <td>58.4</td>\n",
       "      <td>62.1</td>\n",
       "      <td>...</td>\n",
       "      <td>72.2</td>\n",
       "      <td>13.4</td>\n",
       "      <td>10.6</td>\n",
       "      <td>16.3</td>\n",
       "      <td>7.44</td>\n",
       "      <td>560</td>\n",
       "      <td>79.9</td>\n",
       "      <td>980</td>\n",
       "      <td>77.6</td>\n",
       "      <td>7.49</td>\n",
       "    </tr>\n",
       "    <tr>\n",
       "      <th>3</th>\n",
       "      <td>E06000004</td>\n",
       "      <td>Stockton-on-Tees</td>\n",
       "      <td>3.25</td>\n",
       "      <td>7.8</td>\n",
       "      <td>5.7</td>\n",
       "      <td>7.74</td>\n",
       "      <td>10.1</td>\n",
       "      <td>57.8</td>\n",
       "      <td>55.8</td>\n",
       "      <td>59.7</td>\n",
       "      <td>...</td>\n",
       "      <td>74.6</td>\n",
       "      <td>10.8</td>\n",
       "      <td>7.8</td>\n",
       "      <td>13.8</td>\n",
       "      <td>7.40</td>\n",
       "      <td>740</td>\n",
       "      <td>84.4</td>\n",
       "      <td>1400</td>\n",
       "      <td>79.9</td>\n",
       "      <td>7.25</td>\n",
       "    </tr>\n",
       "    <tr>\n",
       "      <th>4</th>\n",
       "      <td>E06000005</td>\n",
       "      <td>Darlington</td>\n",
       "      <td>3.63</td>\n",
       "      <td>7.5</td>\n",
       "      <td>2.9</td>\n",
       "      <td>7.55</td>\n",
       "      <td>9.5</td>\n",
       "      <td>58.1</td>\n",
       "      <td>56.2</td>\n",
       "      <td>60.0</td>\n",
       "      <td>...</td>\n",
       "      <td>73.2</td>\n",
       "      <td>13.5</td>\n",
       "      <td>10.0</td>\n",
       "      <td>16.9</td>\n",
       "      <td>7.25</td>\n",
       "      <td>390</td>\n",
       "      <td>78.1</td>\n",
       "      <td>730</td>\n",
       "      <td>77.1</td>\n",
       "      <td>7.12</td>\n",
       "    </tr>\n",
       "  </tbody>\n",
       "</table>\n",
       "<p>5 rows × 41 columns</p>\n",
       "</div>"
      ],
      "text/plain": [
       "   area_code                  area anxiety car_avg_travel broadband  \\\n",
       "0  E06000001            Hartlepool    3.39            7.8       5.3   \n",
       "1  E06000002         Middlesbrough    3.11            8.5       5.6   \n",
       "2  E06000003  Redcar and Cleveland    3.16            8.1       1.5   \n",
       "3  E06000004      Stockton-on-Tees    3.25            7.8       5.7   \n",
       "4  E06000005            Darlington    3.63            7.5       2.9   \n",
       "\n",
       "  worthwhile cycle_avg_travel male_hle male_hle_lower_ci male_hle_upper_ci  \\\n",
       "0       7.68             10.1     57.0              55.3              58.8   \n",
       "1       7.62             11.3     58.5              56.8              60.2   \n",
       "2       7.76             11.1     60.2              58.4              62.1   \n",
       "3       7.74             10.1     57.8              55.8              59.7   \n",
       "4       7.55              9.5     58.1              56.2              60.0   \n",
       "\n",
       "   ... early_yrs_lit smoking smoking_lower_ci smoking_upper_ci  \\\n",
       "0  ...          73.5    15.9             12.4             19.4   \n",
       "1  ...          63.9    12.8              9.2             16.3   \n",
       "2  ...          72.2    13.4             10.6             16.3   \n",
       "3  ...          74.6    10.8              7.8             13.8   \n",
       "4  ...          73.2    13.5             10.0             16.9   \n",
       "\n",
       "  life_satisfaction apprenticeships_completions early_yrs_comms  \\\n",
       "0              7.33                         370            79.3   \n",
       "1              7.21                         470            71.8   \n",
       "2              7.44                         560            79.9   \n",
       "3              7.40                         740            84.4   \n",
       "4              7.25                         390            78.1   \n",
       "\n",
       "  apprenticeships_starts early_yrs_maths happiness  \n",
       "0                    660            76.9      7.21  \n",
       "1                    900            68.2      7.26  \n",
       "2                    980            77.6      7.49  \n",
       "3                   1400            79.9      7.25  \n",
       "4                    730            77.1      7.12  \n",
       "\n",
       "[5 rows x 41 columns]"
      ]
     },
     "execution_count": 9,
     "metadata": {},
     "output_type": "execute_result"
    }
   ],
   "source": [
    "merged.head()"
   ]
  },
  {
   "cell_type": "code",
   "execution_count": 10,
   "id": "1774ec7f",
   "metadata": {},
   "outputs": [
    {
     "data": {
      "text/plain": [
       "area_code                            object\n",
       "area                                 object\n",
       "anxiety                              object\n",
       "car_avg_travel                       object\n",
       "broadband                            object\n",
       "worthwhile                           object\n",
       "cycle_avg_travel                     object\n",
       "male_hle                             object\n",
       "male_hle_lower_ci                    object\n",
       "male_hle_upper_ci                    object\n",
       "schools_nurseries                    object\n",
       "employment_rate                      object\n",
       "public_transport_avg_travel          object\n",
       "increase_dwellings                   object\n",
       "gcses                                object\n",
       "female_hle                           object\n",
       "female_hle_lower_ci                  object\n",
       "female_hle_upper_ci                  object\n",
       "income                               object\n",
       "gva_ph                               object\n",
       "4g                                   object\n",
       "overweight_adults                    object\n",
       "overweight_adults_lower_ci_95        object\n",
       "overweight_adults_upper_ci_95        object\n",
       "overweight_adults_lower_ci_99.8      object\n",
       "overweight_adults_upper_ci_99.8      object\n",
       "overweight_children                  object\n",
       "overweight_children_lower_ci_95      object\n",
       "overweight_children_upper_ci_95      object\n",
       "overweight_children_lower_ci_99.8    object\n",
       "overweight_children_upper_ci_99.8    object\n",
       "early_yrs_lit                        object\n",
       "smoking                              object\n",
       "smoking_lower_ci                     object\n",
       "smoking_upper_ci                     object\n",
       "life_satisfaction                    object\n",
       "apprenticeships_completions          object\n",
       "early_yrs_comms                      object\n",
       "apprenticeships_starts               object\n",
       "early_yrs_maths                      object\n",
       "happiness                            object\n",
       "dtype: object"
      ]
     },
     "execution_count": 10,
     "metadata": {},
     "output_type": "execute_result"
    }
   ],
   "source": [
    "#Check dtypes\n",
    "merged.dtypes"
   ]
  },
  {
   "cell_type": "markdown",
   "id": "8e817a3a",
   "metadata": {},
   "source": [
    "All data types are strings but are actually given as numerical values, so we need to change them to floats."
   ]
  },
  {
   "cell_type": "code",
   "execution_count": 11,
   "id": "7f7aa151",
   "metadata": {},
   "outputs": [
    {
     "data": {
      "text/plain": [
       "3525"
      ]
     },
     "execution_count": 11,
     "metadata": {},
     "output_type": "execute_result"
    }
   ],
   "source": [
    "#Check number of nan before conversion\n",
    "merged.isna().sum().sum()"
   ]
  },
  {
   "cell_type": "code",
   "execution_count": 12,
   "id": "dc8c6809",
   "metadata": {},
   "outputs": [
    {
     "data": {
      "text/plain": [
       "area_code                              0\n",
       "area                                   0\n",
       "anxiety                                0\n",
       "car_avg_travel                        76\n",
       "broadband                             11\n",
       "worthwhile                             0\n",
       "cycle_avg_travel                      76\n",
       "male_hle                             192\n",
       "male_hle_lower_ci                    192\n",
       "male_hle_upper_ci                    192\n",
       "schools_nurseries                    258\n",
       "employment_rate                       11\n",
       "public_transport_avg_travel           76\n",
       "increase_dwellings                    69\n",
       "gcses                                 65\n",
       "female_hle                           192\n",
       "female_hle_lower_ci                  192\n",
       "female_hle_upper_ci                  192\n",
       "income                                11\n",
       "gva_ph                                22\n",
       "4g                                    11\n",
       "overweight_adults                     76\n",
       "overweight_adults_lower_ci_95         76\n",
       "overweight_adults_upper_ci_95         76\n",
       "overweight_adults_lower_ci_99.8       76\n",
       "overweight_adults_upper_ci_99.8       76\n",
       "overweight_children                   69\n",
       "overweight_children_lower_ci_95       69\n",
       "overweight_children_upper_ci_95       69\n",
       "overweight_children_lower_ci_99.8     69\n",
       "overweight_children_upper_ci_99.8     69\n",
       "early_yrs_lit                        257\n",
       "smoking                               13\n",
       "smoking_lower_ci                      13\n",
       "smoking_upper_ci                      13\n",
       "life_satisfaction                      0\n",
       "apprenticeships_completions           76\n",
       "early_yrs_comms                      257\n",
       "apprenticeships_starts                76\n",
       "early_yrs_maths                      257\n",
       "happiness                              0\n",
       "dtype: int64"
      ]
     },
     "execution_count": 12,
     "metadata": {},
     "output_type": "execute_result"
    }
   ],
   "source": [
    "merged.isna().sum()"
   ]
  },
  {
   "cell_type": "code",
   "execution_count": 13,
   "id": "ffef8c68",
   "metadata": {},
   "outputs": [],
   "source": [
    "#list of column names\n",
    "cols = list(merged.columns[2:])\n",
    "\n",
    "merged_flt = merged.copy()\n",
    "\n",
    "#Convert all dtypes to float\n",
    "merged_flt[cols] = merged[cols].apply(pd.to_numeric, errors='coerce')"
   ]
  },
  {
   "cell_type": "code",
   "execution_count": 14,
   "id": "dedb4fa8",
   "metadata": {},
   "outputs": [
    {
     "data": {
      "text/plain": [
       "area_code                             object\n",
       "area                                  object\n",
       "anxiety                              float64\n",
       "car_avg_travel                       float64\n",
       "broadband                            float64\n",
       "worthwhile                           float64\n",
       "cycle_avg_travel                     float64\n",
       "male_hle                             float64\n",
       "male_hle_lower_ci                    float64\n",
       "male_hle_upper_ci                    float64\n",
       "schools_nurseries                    float64\n",
       "employment_rate                      float64\n",
       "public_transport_avg_travel          float64\n",
       "increase_dwellings                   float64\n",
       "gcses                                float64\n",
       "female_hle                           float64\n",
       "female_hle_lower_ci                  float64\n",
       "female_hle_upper_ci                  float64\n",
       "income                               float64\n",
       "gva_ph                               float64\n",
       "4g                                   float64\n",
       "overweight_adults                    float64\n",
       "overweight_adults_lower_ci_95        float64\n",
       "overweight_adults_upper_ci_95        float64\n",
       "overweight_adults_lower_ci_99.8      float64\n",
       "overweight_adults_upper_ci_99.8      float64\n",
       "overweight_children                  float64\n",
       "overweight_children_lower_ci_95      float64\n",
       "overweight_children_upper_ci_95      float64\n",
       "overweight_children_lower_ci_99.8    float64\n",
       "overweight_children_upper_ci_99.8    float64\n",
       "early_yrs_lit                        float64\n",
       "smoking                              float64\n",
       "smoking_lower_ci                     float64\n",
       "smoking_upper_ci                     float64\n",
       "life_satisfaction                    float64\n",
       "apprenticeships_completions          float64\n",
       "early_yrs_comms                      float64\n",
       "apprenticeships_starts               float64\n",
       "early_yrs_maths                      float64\n",
       "happiness                            float64\n",
       "dtype: object"
      ]
     },
     "execution_count": 14,
     "metadata": {},
     "output_type": "execute_result"
    }
   ],
   "source": [
    "#Check conversion\n",
    "merged_flt.dtypes"
   ]
  },
  {
   "cell_type": "code",
   "execution_count": 15,
   "id": "a36f1190",
   "metadata": {},
   "outputs": [
    {
     "data": {
      "text/plain": [
       "area_code                             0\n",
       "area                                  0\n",
       "anxiety                               9\n",
       "car_avg_travel                        0\n",
       "broadband                             0\n",
       "worthwhile                            5\n",
       "cycle_avg_travel                      0\n",
       "male_hle                              2\n",
       "male_hle_lower_ci                     2\n",
       "male_hle_upper_ci                     2\n",
       "schools_nurseries                     0\n",
       "employment_rate                       2\n",
       "public_transport_avg_travel           0\n",
       "increase_dwellings                    0\n",
       "gcses                                 1\n",
       "female_hle                            2\n",
       "female_hle_lower_ci                   2\n",
       "female_hle_upper_ci                   2\n",
       "income                                2\n",
       "gva_ph                                0\n",
       "4g                                    0\n",
       "overweight_adults                     0\n",
       "overweight_adults_lower_ci_95         0\n",
       "overweight_adults_upper_ci_95         0\n",
       "overweight_adults_lower_ci_99.8       0\n",
       "overweight_adults_upper_ci_99.8       0\n",
       "overweight_children                  22\n",
       "overweight_children_lower_ci_95      22\n",
       "overweight_children_upper_ci_95      22\n",
       "overweight_children_lower_ci_99.8    22\n",
       "overweight_children_upper_ci_99.8    22\n",
       "early_yrs_lit                         0\n",
       "smoking                               2\n",
       "smoking_lower_ci                      2\n",
       "smoking_upper_ci                      2\n",
       "life_satisfaction                     5\n",
       "apprenticeships_completions           1\n",
       "early_yrs_comms                       0\n",
       "apprenticeships_starts                1\n",
       "early_yrs_maths                       0\n",
       "happiness                             5\n",
       "dtype: int64"
      ]
     },
     "execution_count": 15,
     "metadata": {},
     "output_type": "execute_result"
    }
   ],
   "source": [
    "(merged_flt.isna().sum() - merged.isna().sum())"
   ]
  },
  {
   "cell_type": "code",
   "execution_count": 16,
   "id": "c408be08",
   "metadata": {},
   "outputs": [
    {
     "data": {
      "text/plain": [
       "159"
      ]
     },
     "execution_count": 16,
     "metadata": {},
     "output_type": "execute_result"
    }
   ],
   "source": [
    "#159 additional nan found\n",
    "merged_flt.isna().sum().sum() - merged.isna().sum().sum()"
   ]
  },
  {
   "cell_type": "code",
   "execution_count": 17,
   "id": "b3b23965",
   "metadata": {},
   "outputs": [
    {
     "data": {
      "text/plain": [
       "['full_df.jlib']"
      ]
     },
     "execution_count": 17,
     "metadata": {},
     "output_type": "execute_result"
    }
   ],
   "source": [
    "joblib.dump(merged_flt, 'full_df.jlib')"
   ]
  },
  {
   "cell_type": "code",
   "execution_count": null,
   "id": "ea95f8cf",
   "metadata": {},
   "outputs": [],
   "source": []
  }
 ],
 "metadata": {
  "kernelspec": {
   "display_name": "Python 3",
   "language": "python",
   "name": "python3"
  },
  "language_info": {
   "codemirror_mode": {
    "name": "ipython",
    "version": 3
   },
   "file_extension": ".py",
   "mimetype": "text/x-python",
   "name": "python",
   "nbconvert_exporter": "python",
   "pygments_lexer": "ipython3",
   "version": "3.8.8"
  }
 },
 "nbformat": 4,
 "nbformat_minor": 5
}
