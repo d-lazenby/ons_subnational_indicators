{
 "cells": [
  {
   "cell_type": "code",
   "execution_count": 2,
   "id": "8be504f9",
   "metadata": {},
   "outputs": [],
   "source": [
    "import numpy as np\n",
    "import pandas as pd\n",
    "import matplotlib.pyplot as plt\n",
    "import seaborn as sns\n",
    "import glob\n",
    "import os"
   ]
  },
  {
   "cell_type": "code",
   "execution_count": 146,
   "id": "99245091",
   "metadata": {},
   "outputs": [],
   "source": [
    "# Grab all csvs\n",
    "csvs = glob.glob(os.path.join('./data', '*.csv'))\n",
    "\n",
    "# Loop through files, convert to dfs, tidy headers and store in a list\n",
    "dataframes = [] \n",
    "#Actual data starts at row 6 and some of the columns have np.nan as header and all values.\n",
    "for csv in csvs:\n",
    "    df = pd.read_csv(csv, header=None)\n",
    "    df.columns = df.iloc[5].values\n",
    "    df = df[6:].reset_index(drop=True).loc[:, df.columns.notna()]\n",
    "    dataframes.append(df)"
   ]
  },
  {
   "cell_type": "code",
   "execution_count": 147,
   "id": "8fdae490",
   "metadata": {},
   "outputs": [],
   "source": [
    "# Merge dfs into one big df\n",
    "merged = dataframes[0]\n",
    "for i, frame in enumerate(dataframes[1:]):\n",
    "    #Try/Except because some of the csvs contain notes rather than data\n",
    "    try:\n",
    "        merged = pd.merge(merged, frame, how='left', on=['Area Code', 'Area'])\n",
    "    except:\n",
    "        continue"
   ]
  },
  {
   "cell_type": "code",
   "execution_count": 148,
   "id": "e92132cc",
   "metadata": {},
   "outputs": [],
   "source": [
    "#Remove columns with notes or nan in the title\n",
    "for col in list(merged.columns):\n",
    "    try:\n",
    "        if ('Note' in col) or ('nan' in col):\n",
    "            merged.drop(columns=col, inplace=True)\n",
    "        else:\n",
    "            continue\n",
    "    except:\n",
    "        continue"
   ]
  },
  {
   "cell_type": "code",
   "execution_count": 149,
   "id": "7b0026cb",
   "metadata": {},
   "outputs": [
    {
     "data": {
      "text/plain": [
       "Index(['Area Code', 'Area',\n",
       "       'Mean anxiety yesterday scored 0 (not at all) - 10 (completely)',\n",
       "       'Average travel time in minutes_x',\n",
       "       'Premises with gigabit capable broadband %',\n",
       "       'Mean feeling things done in life are worthwhile scored 0 (not at all) - 10 (completely)',\n",
       "       'Average travel time in minutes_y', 'Male healthy life expectancy',\n",
       "       'HLE Lower CI_x', 'HLE Upper CI_x',\n",
       "       'Schools and nurseries rated good or outstanding by OFSTED %',\n",
       "       'Employment rate %', 'Average travel time in minutes',\n",
       "       'Absolute increase in dwelling stock (including new builds, conversions, changes of use, other gains/losses and offset by demolitions)',\n",
       "       'Young people achieving GCSEs (and equivalent) in English and Maths  %',\n",
       "       'Female healthy life expectancy', 'HLE Lower CI_y', 'HLE Upper CI_y',\n",
       "       'Median weekly pay (£)', 'Gross Value Added per hour (£)',\n",
       "       'Geographic areas with 4G signal outdoors from at least 1 operator %',\n",
       "       'Overweight or obese %', 'Lower CI 95.0 limit_x',\n",
       "       'Upper CI 95.0 limit_x', 'Lower CI 99.8 limit_x',\n",
       "       'Upper CI 99.8 limit_x', 'Overweight or obese at reception age %',\n",
       "       'Lower CI 95.0 limit_y', 'Upper CI 95.0 limit_y',\n",
       "       'Lower CI 99.8 limit_y', 'Upper CI 99.8 limit_y',\n",
       "       '5 year olds achieving 'expected level' %_x',\n",
       "       'Adults that currently smoke cigarettes %', 'LCI', 'UCI',\n",
       "       'Mean satisfaction with your life nowadays scored 0 (not at all) - 10 (completely)',\n",
       "       'Count of apprenticeships achieved by adults aged 16+ based on home address',\n",
       "       '5 year olds achieving 'expected level' %_y',\n",
       "       'Count of apprenticeships started by adults aged 16+ based on home address',\n",
       "       '5 year olds achieving 'expected level' %',\n",
       "       'Mean happiness yesterday scored 0 (not at all) - 10 (completely)'],\n",
       "      dtype='object')"
      ]
     },
     "execution_count": 149,
     "metadata": {},
     "output_type": "execute_result"
    }
   ],
   "source": [
    "merged.columns"
   ]
  },
  {
   "cell_type": "code",
   "execution_count": null,
   "id": "5309bcd1",
   "metadata": {},
   "outputs": [],
   "source": []
  },
  {
   "cell_type": "code",
   "execution_count": null,
   "id": "bf69704d",
   "metadata": {},
   "outputs": [],
   "source": []
  }
 ],
 "metadata": {
  "kernelspec": {
   "display_name": "Python 3",
   "language": "python",
   "name": "python3"
  },
  "language_info": {
   "codemirror_mode": {
    "name": "ipython",
    "version": 3
   },
   "file_extension": ".py",
   "mimetype": "text/x-python",
   "name": "python",
   "nbconvert_exporter": "python",
   "pygments_lexer": "ipython3",
   "version": "3.8.8"
  }
 },
 "nbformat": 4,
 "nbformat_minor": 5
}
